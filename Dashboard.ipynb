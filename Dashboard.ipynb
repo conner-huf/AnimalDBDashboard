# Configure the necessary Python module imports
from jupyter_dash import JupyterDash
import dash_leaflet as dl
from dash import dcc
from dash import html
import plotly.express as px
from dash import dash_table
from dash.dependencies import Input, Output

# Configure the plotting routines
import numpy as np
import pandas as pd
import matplotlib.pyplot as plt

# Import the AnimalShelter class from the AnimalCRUD module
from AnimalCRUD import AnimalShelter


###########################
# Data Manipulation / Model
###########################
# Create an instance of the AnimalShelter class
shelter = AnimalShelter('aacuser', 'SNHU1234')

# Retrieve all records from the database using the read method
data = shelter.read({})

# Convert the data to a pandas DataFrame
df = pd.DataFrame.from_records(data)

# Remove the '_id' column
df.drop(columns=['_id'], inplace=True)


#########################
# Dashboard Layout / View
#########################
app = JupyterDash('SimpleExample')

# Define the filter options
filter_options = [
    {'label': 'Unfiltered', 'value': 'unfiltered'},
    {'label': 'Water Rescue', 'value': 'water_rescue'},
    {'label': 'Mountain or Wilderness Rescue', 'value': 'mountain_rescue'},
    {'label': 'Disaster or Individual Tracking', 'value': 'disaster_tracking'}
]

app.layout = html.Div([
    html.Div(id='hidden-div', style={'display': 'none'}),
    html.Center([
        html.Img(src='logo.png', alt="Grazioso Salvare Logo", style={'width': '10em'}),
        html.B(html.H1('SNHU CS-340 Dashboard - Conner Hufnagel'))
    ]),
    html.Hr(),
    html.Div([
        html.Div([
            dcc.Dropdown(
                id='filter-dropdown', #include a drop down menu, with unfiltered selected by default
                options=filter_options,
                value='unfiltered',
                clearable=False,
                style = {'width':'20em'}
            ),
            dash_table.DataTable(
                id='datatable-id',
                columns=[
                    {"name": i, "id": i, "deletable": False, "selectable": True} for i in df.columns
                ],
                data=df.to_dict('records'),
                row_selectable="single",
                selected_rows=[0],  # Select the first row by default
                page_current=0,
                page_size=20
            ),
        ]),
    ]),
    
    html.Br(),
    html.Hr(),
    html.Div([
        html.Div(
            id='map-id',
            className='col s12 m6',
            style={'width': '50%', 'display': 'inline-block'}
        ),
        html.Div(
            dcc.Graph(id='pie-chart'),
            style={'width': '50%', 'display': 'inline-block'}
        )
    ])
])


#############################################
# Interaction Between Components / Controller
#############################################
# This callback will highlight a row on the data table when the user selects it
@app.callback(
    Output('datatable-id', 'style_data_conditional'),
    [Input('datatable-id', 'selected_columns')]
)
def update_styles(selected_columns):
    if selected_columns is None:
        return []
    return [{
        'if': {'column_id': i},
        'background_color': '#D2F3FF'
    } for i in selected_columns]


# This callback will update the geo-location chart for the selected data entry
@app.callback(
    Output('map-id', "children"),
    [Input('datatable-id', "derived_virtual_data"),
     Input('datatable-id', "derived_virtual_selected_rows")])
def update_map_callback(viewData, index):
    if not viewData:
        return []
    
    return update_map(viewData, index)


# Function to set up accessing the data for the geolocation chart and call the Leaflet function update_map
def update_map(viewData, index):
    if not viewData:
        return dl.Map(style={'width': '1000px', 'height': '500px'}, center=[30.75, -97.48], zoom=10)
    
    dff = pd.DataFrame.from_dict(viewData)
    if index is None:
        row = 0
    else:
        row = index[0]
    
    lat = dff.iloc[row, 12]
    lon = dff.iloc[row, 13]
    
    marker = dl.Marker(position=[lat, lon], children=[
        dl.Tooltip(f"Breed: {dff.iloc[row, 4]}"),
        dl.Popup([
            html.H1("Animal Name"),
            html.P(dff.iloc[row, 9])
        ])
    ])
    
    return dl.Map(style={'width': '750px', 'height': '500px'},
               center=[30.75, -97.48], zoom=10, children=[
                   dl.TileLayer(id="base-layer-id"),
                   marker
               ])

# Callback to update the table data based on the current page
@app.callback(
    Output('datatable-id', 'data'),
    [Input('datatable-id', 'page_current'),
    Input('filter-dropdown', 'value')]
)
def update_table(page_current, filter_value):
    
    if filter_value == 'water_rescue': # if user selects water rescue from drop down, filter
        filtered_df = df[
            (df['breed'].isin(['Labrador Retriever Mix', 'Chesapeake Bay Retriever', 'Newfoundland'])) &
            (df['sex_upon_outcome'] == 'Intact Female') &
            (df['age_upon_outcome_in_weeks'].between(26, 156))
        ]
    elif filter_value == 'mountain_rescue': # else, if user selects mountain rescue, filter
        filtered_df = df[
            (df['breed'].isin(['German Shepherd', 'Alaskan Malamute', 'Old English Sheepdog', 'Siberian Husky', 'Rottweiler'])) &
            (df['sex_upon_outcome'] == 'Intact Male') &
            (df['age_upon_outcome_in_weeks'].between(26, 156))
        ]
    elif filter_value == 'disaster_tracking': # else, if user selects mountain rescue, filter
        filtered_df = df[
            (df['breed'].isin(['Doberman Pinscher', 'German Shepherd', 'Golden Retriever', 'Bloodhound', 'Rottweiler'])) &
            (df['sex_upon_outcome'] == 'Intact Male') &
            (df['age_upon_outcome_in_weeks'].between(20, 300))
        ]
    else:
        filtered_df = df # otherwise, or if unfiltered is selected, return unfiltered table
    
    return filtered_df.iloc[
        page_current * 20: (page_current + 1) * 20
    ].to_dict('records')

# Callback to update the pie chart based on the selected filter
@app.callback(
    Output('pie-chart', 'figure'),
    [Input('filter-dropdown', 'value')]
)
def update_pie_chart(filter_value):
    
    if filter_value == 'water_rescue':
        filtered_df = df[
            (df['breed'].isin(['Labrador Retriever Mix', 'Chesapeake Bay Retriever', 'Newfoundland'])) &
            (df['sex_upon_outcome'] == 'Intact Female') &
            (df['age_upon_outcome_in_weeks'].between(26, 156))
        ]
    elif filter_value == 'mountain_rescue':
        filtered_df = df[
            (df['breed'].isin(['German Shepherd', 'Alaskan Malamute', 'Old English Sheepdog', 'Siberian Husky', 'Rottweiler'])) &
            (df['sex_upon_outcome'] == 'Intact Male') &
            (df['age_upon_outcome_in_weeks'].between(26, 156))
        ]
    elif filter_value == 'disaster_tracking':
        filtered_df = df[
            (df['breed'].isin(['Doberman Pinscher', 'German Shepherd', 'Golden Retriever', 'Bloodhound', 'Rottweiler'])) &
            (df['sex_upon_outcome'] == 'Intact Male') &
            (df['age_upon_outcome_in_weeks'].between(20, 300))
        ]
    else:
        filtered_df = df
    
    filtered_df = filtered_df.head(25)
    
    breed_counts = filtered_df['breed'].value_counts()
    labels = breed_counts.index.tolist()
    values = breed_counts.values.tolist()

    fig = px.pie(
        names=labels,
        values=values,
        title=''
    )
    
    return fig

app.run_server(debug=True)
